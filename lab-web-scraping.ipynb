{
 "cells": [
  {
   "cell_type": "markdown",
   "id": "7e7a1ab8-2599-417d-9a65-25ef07f3a786",
   "metadata": {
    "id": "7e7a1ab8-2599-417d-9a65-25ef07f3a786"
   },
   "source": [
    "# Lab | Web Scraping"
   ]
  },
  {
   "cell_type": "markdown",
   "id": "ce8882fc-4815-4567-92fa-b4816358ba7d",
   "metadata": {
    "id": "ce8882fc-4815-4567-92fa-b4816358ba7d"
   },
   "source": [
    "Welcome to the \"Books to Scrape\" Web Scraping Adventure Lab!\n",
    "\n",
    "**Objective**\n",
    "\n",
    "In this lab, we will embark on a mission to unearth valuable insights from the data available on Books to Scrape, an online platform showcasing a wide variety of books. As data analyst, you have been tasked with scraping a specific subset of book data from Books to Scrape to assist publishing companies in understanding the landscape of highly-rated books across different genres. Your insights will help shape future book marketing strategies and publishing decisions.\n",
    "\n",
    "**Background**\n",
    "\n",
    "In a world where data has become the new currency, businesses are leveraging big data to make informed decisions that drive success and profitability. The publishing industry, much like others, utilizes data analytics to understand market trends, reader preferences, and the performance of books based on factors such as genre, author, and ratings. Books to Scrape serves as a rich source of such data, offering detailed information about a diverse range of books, making it an ideal platform for extracting insights to aid in informed decision-making within the literary world.\n",
    "\n",
    "**Task**\n",
    "\n",
    "Your task is to create a Python script using BeautifulSoup and pandas to scrape Books to Scrape book data, focusing on book ratings and genres. The script should be able to filter books with ratings above a certain threshold and in specific genres. Additionally, the script should structure the scraped data in a tabular format using pandas for further analysis.\n",
    "\n",
    "**Expected Outcome**\n",
    "\n",
    "A function named `scrape_books` that takes two parameters: `min_rating` and `max_price`. The function should scrape book data from the \"Books to Scrape\" website and return a `pandas` DataFrame with the following columns:\n",
    "\n",
    "**Expected Outcome**\n",
    "\n",
    "- A function named `scrape_books` that takes two parameters: `min_rating` and `max_price`.\n",
    "- The function should return a DataFrame with the following columns:\n",
    "  - **UPC**: The Universal Product Code (UPC) of the book.\n",
    "  - **Title**: The title of the book.\n",
    "  - **Price (£)**: The price of the book in pounds.\n",
    "  - **Rating**: The rating of the book (1-5 stars).\n",
    "  - **Genre**: The genre of the book.\n",
    "  - **Availability**: Whether the book is in stock or not.\n",
    "  - **Description**: A brief description or product description of the book (if available).\n",
    "  \n",
    "You will execute this script to scrape data for books with a minimum rating of `4.0 and above` and a maximum price of `£20`. \n",
    "\n",
    "Remember to experiment with different ratings and prices to ensure your code is versatile and can handle various searches effectively!\n",
    "\n",
    "**Resources**\n",
    "\n",
    "- [Beautiful Soup Documentation](https://www.crummy.com/software/BeautifulSoup/bs4/doc/)\n",
    "- [Pandas Documentation](https://pandas.pydata.org/pandas-docs/stable/index.html)\n",
    "- [Books to Scrape](https://books.toscrape.com/)\n"
   ]
  },
  {
   "cell_type": "markdown",
   "id": "3519921d-5890-445b-9a33-934ed8ee378c",
   "metadata": {
    "id": "3519921d-5890-445b-9a33-934ed8ee378c"
   },
   "source": [
    "**Hint**\n",
    "\n",
    "Your first mission is to familiarize yourself with the **Books to Scrape** website. Navigate to [Books to Scrape](http://books.toscrape.com/) and explore the available books to understand their layout and structure. \n",
    "\n",
    "Next, think about how you can set parameters for your data extraction:\n",
    "\n",
    "- **Minimum Rating**: Focus on books with a rating of 4.0 and above.\n",
    "- **Maximum Price**: Filter for books priced up to £20.\n",
    "\n",
    "After reviewing the site, you can construct a plan for scraping relevant data. Pay attention to the details displayed for each book, including the title, price, rating, and availability. This will help you identify the correct HTML elements to target with your scraping script.\n",
    "\n",
    "Make sure to build your scraping URL and logic based on the patterns you observe in the HTML structure of the book listings!"
   ]
  },
  {
   "cell_type": "markdown",
   "id": "25a83a0d-a742-49f6-985e-e27887cbf922",
   "metadata": {
    "id": "25a83a0d-a742-49f6-985e-e27887cbf922"
   },
   "source": [
    "\n",
    "---\n",
    "\n",
    "**Best of luck! Immerse yourself in the world of books, and may the data be with you!**"
   ]
  },
  {
   "cell_type": "markdown",
   "id": "7b75cf0d-9afa-4eec-a9e2-befeac68b2a0",
   "metadata": {
    "id": "7b75cf0d-9afa-4eec-a9e2-befeac68b2a0"
   },
   "source": [
    "**Important Note**:\n",
    "\n",
    "In the fast-changing online world, websites often update and change their structures. When you try this lab, the **Books to Scrape** website might differ from what you expect.\n",
    "\n",
    "If you encounter issues due to these changes, like new rules or obstacles preventing data extraction, don’t worry! Get creative.\n",
    "\n",
    "You can choose another website that interests you and is suitable for scraping data. Options like Wikipedia, The New York Times, or even library databases are great alternatives. The main goal remains the same: extract useful data and enhance your web scraping skills while exploring a source of information you enjoy. This is your opportunity to practice and adapt to different web environments!"
   ]
  },
  {
   "cell_type": "code",
   "execution_count": 260,
   "id": "a1966b54-51b6-403f-a3a3-cd61cd84540a",
   "metadata": {},
   "outputs": [],
   "source": [
    "import pandas as pd\n",
    "from bs4 import BeautifulSoup\n",
    "import requests\n",
    "from word2number import w2n\n",
    "\n",
    "# ⚙️ Settings\n",
    "pd.set_option('display.max_columns', None) # display all columns\n",
    "import warnings\n",
    "warnings.filterwarnings('ignore') # ignore warnings"
   ]
  },
  {
   "cell_type": "code",
   "execution_count": 315,
   "id": "816c2152-afe7-444e-92fe-0ba8de98a0ba",
   "metadata": {},
   "outputs": [
    {
     "data": {
      "text/plain": [
       "'\\nlink = \"https://books.toscrape.com/\"\\nresponse = requests.get(link)\\nresponse.status_code\\n'"
      ]
     },
     "execution_count": 315,
     "metadata": {},
     "output_type": "execute_result"
    }
   ],
   "source": [
    "\"\"\"\n",
    "link = \"https://books.toscrape.com/\"\n",
    "response = requests.get(link)\n",
    "response.status_code\n",
    "\"\"\""
   ]
  },
  {
   "cell_type": "code",
   "execution_count": 317,
   "id": "d5b19987-9c5f-4c48-95bb-23819e7e73ea",
   "metadata": {},
   "outputs": [
    {
     "data": {
      "text/plain": [
       "\"\\nhtml = response.text\\nsoup = BeautifulSoup(html, 'html.parser')\\n\""
      ]
     },
     "execution_count": 317,
     "metadata": {},
     "output_type": "execute_result"
    }
   ],
   "source": [
    "\"\"\"\n",
    "html = response.text\n",
    "soup = BeautifulSoup(html, 'html.parser')\n",
    "\"\"\""
   ]
  },
  {
   "cell_type": "code",
   "execution_count": 319,
   "id": "45591db4-9dd5-47f9-aeb5-0dca2c382978",
   "metadata": {
    "scrolled": true
   },
   "outputs": [
    {
     "data": {
      "text/plain": [
       "'\\nbook_headers = soup.find_all(\"h3\")\\ntitle_list = [element.find(\"a\").get(\"title\") for element in book_headers]\\ntitle_list\\n'"
      ]
     },
     "execution_count": 319,
     "metadata": {},
     "output_type": "execute_result"
    }
   ],
   "source": [
    "\"\"\"\n",
    "book_headers = soup.find_all(\"h3\")\n",
    "title_list = [element.find(\"a\").get(\"title\") for element in book_headers]\n",
    "title_list\n",
    "\"\"\""
   ]
  },
  {
   "cell_type": "code",
   "execution_count": 321,
   "id": "8fce47af-4a43-4c0d-9c42-64755c0e77f3",
   "metadata": {
    "scrolled": true
   },
   "outputs": [
    {
     "data": {
      "text/plain": [
       "'\\nprice_color = soup.find_all(class_=\"price_color\")\\nprice_list = [element.get_text()[2:] for element in price_color]\\nprice_list\\n'"
      ]
     },
     "execution_count": 321,
     "metadata": {},
     "output_type": "execute_result"
    }
   ],
   "source": [
    "\"\"\"\n",
    "price_color = soup.find_all(class_=\"price_color\")\n",
    "price_list = [element.get_text()[2:] for element in price_color]\n",
    "price_list\n",
    "\"\"\""
   ]
  },
  {
   "cell_type": "code",
   "execution_count": 323,
   "id": "70252bf9-cb4d-4780-8edc-27802a570694",
   "metadata": {
    "scrolled": true
   },
   "outputs": [
    {
     "data": {
      "text/plain": [
       "'\\ninstock = soup.find_all(class_=\"instock availability\")\\nstock_list = [element.get_text(strip=True) for element in instock]\\nstock_list\\n'"
      ]
     },
     "execution_count": 323,
     "metadata": {},
     "output_type": "execute_result"
    }
   ],
   "source": [
    "\"\"\"\n",
    "instock = soup.find_all(class_=\"instock availability\")\n",
    "stock_list = [element.get_text(strip=True) for element in instock]\n",
    "stock_list\n",
    "\"\"\""
   ]
  },
  {
   "cell_type": "code",
   "execution_count": 325,
   "id": "5335e07d-5492-436c-8482-d8ee50ceb986",
   "metadata": {},
   "outputs": [
    {
     "data": {
      "text/plain": [
       "'\\nstar = soup.find_all(class_=\"star-rating\")\\nstar\\n'"
      ]
     },
     "execution_count": 325,
     "metadata": {},
     "output_type": "execute_result"
    }
   ],
   "source": [
    "\"\"\"\n",
    "star = soup.find_all(class_=\"star-rating\")\n",
    "star\n",
    "\"\"\""
   ]
  },
  {
   "cell_type": "code",
   "execution_count": 327,
   "id": "a52db578-0c52-4b51-b6a3-e8f8cf35ba8d",
   "metadata": {},
   "outputs": [
    {
     "data": {
      "text/plain": [
       "'\\nrating_list = [element.get(\"class\")[1] for element in star]\\nrating_list = [element.replace(\"One\", \"1\") for element in rating_list]\\nrating_list = [element.replace(\"Two\", \"2\") for element in rating_list]\\nrating_list = [element.replace(\"Three\", \"3\") for element in rating_list]\\nrating_list = [element.replace(\"Four\", \"4\") for element in rating_list]\\nrating_list = [element.replace(\"Five\", \"5\") for element in rating_list]\\nrating_list = [int(element) for element in rating_list]\\nrating_list\\n'"
      ]
     },
     "execution_count": 327,
     "metadata": {},
     "output_type": "execute_result"
    }
   ],
   "source": [
    "\"\"\"\n",
    "rating_list = [element.get(\"class\")[1] for element in star]\n",
    "rating_list = [element.replace(\"One\", \"1\") for element in rating_list]\n",
    "rating_list = [element.replace(\"Two\", \"2\") for element in rating_list]\n",
    "rating_list = [element.replace(\"Three\", \"3\") for element in rating_list]\n",
    "rating_list = [element.replace(\"Four\", \"4\") for element in rating_list]\n",
    "rating_list = [element.replace(\"Five\", \"5\") for element in rating_list]\n",
    "rating_list = [int(element) for element in rating_list]\n",
    "rating_list\n",
    "\"\"\""
   ]
  },
  {
   "cell_type": "code",
   "execution_count": 329,
   "id": "6aecc546-ceeb-4072-9303-2571b3509156",
   "metadata": {},
   "outputs": [
    {
     "data": {
      "text/plain": [
       "'\\nlinks = [element.find(\"a\").get(\"href\") for element in book_headers]\\nupc_list = []\\ngenre_list = []\\ndescription_list = []\\nfor element in links:\\n    book_link = \"https://books.toscrape.com/\"+element\\n    book_response = requests.get(book_link)\\n    book_html = book_response.text\\n    book_soup = BeautifulSoup(book_html, \\'html.parser\\')\\n    details = book_soup.find_all(\"td\")\\n    upc_list.append(details[0].get_text())\\n    genre = book_soup.find_all(\"li\")\\n    genre_list.append(genre[2].get_text(strip = True))\\n    description = book_soup.find_all(\"p\")\\n    description = description[3]\\n    description_list.append(description.get_text(strip = True))\\n'"
      ]
     },
     "execution_count": 329,
     "metadata": {},
     "output_type": "execute_result"
    }
   ],
   "source": [
    "\"\"\"\n",
    "links = [element.find(\"a\").get(\"href\") for element in book_headers]\n",
    "upc_list = []\n",
    "genre_list = []\n",
    "description_list = []\n",
    "for element in links:\n",
    "    book_link = \"https://books.toscrape.com/\"+element\n",
    "    book_response = requests.get(book_link)\n",
    "    book_html = book_response.text\n",
    "    book_soup = BeautifulSoup(book_html, 'html.parser')\n",
    "    details = book_soup.find_all(\"td\")\n",
    "    upc_list.append(details[0].get_text())\n",
    "    genre = book_soup.find_all(\"li\")\n",
    "    genre_list.append(genre[2].get_text(strip = True))\n",
    "    description = book_soup.find_all(\"p\")\n",
    "    description = description[3]\n",
    "    description_list.append(description.get_text(strip = True))\n",
    "\"\"\"    "
   ]
  },
  {
   "cell_type": "code",
   "execution_count": 331,
   "id": "7de7afa9-4242-4b91-b2b3-550ebba32861",
   "metadata": {},
   "outputs": [],
   "source": [
    "#description_list"
   ]
  },
  {
   "cell_type": "code",
   "execution_count": 333,
   "id": "8cae5d8b-b5c9-42b6-92a3-e365e4fdb3bd",
   "metadata": {},
   "outputs": [
    {
     "data": {
      "text/plain": [
       "'\\ndictionary = {\"upc\": upc_list,\\n             \"title\": title_list,\\n             \"price (£)\": price_list,\\n             \"rating\": rating_list,\\n             \"genre\": genre_list,\\n             \"availavility\": stock_list,\\n             \"description\": description_list}\\nlibros_df = pd.DataFrame(data = dictionary)\\nlibros_df\\n'"
      ]
     },
     "execution_count": 333,
     "metadata": {},
     "output_type": "execute_result"
    }
   ],
   "source": [
    "\"\"\"\n",
    "dictionary = {\"upc\": upc_list,\n",
    "             \"title\": title_list,\n",
    "             \"price (£)\": price_list,\n",
    "             \"rating\": rating_list,\n",
    "             \"genre\": genre_list,\n",
    "             \"availavility\": stock_list,\n",
    "             \"description\": description_list}\n",
    "libros_df = pd.DataFrame(data = dictionary)\n",
    "libros_df\n",
    "\"\"\""
   ]
  },
  {
   "cell_type": "code",
   "execution_count": 335,
   "id": "daac7da7-8410-47bd-ba15-24dc53b32860",
   "metadata": {},
   "outputs": [
    {
     "data": {
      "text/plain": [
       "'\\nbook_link = \"https://books.toscrape.com/\"+\"catalogue/tipping-the-velvet_999/index.html\"\\nbook_response = requests.get(book_link)\\nbook_html = book_response.text\\nbook_soup = BeautifulSoup(book_html, \\'html.parser\\')\\n#upc_list.append(book_soup.find_all(\"td\")[0].get_text())\\n#title_list.append(book_soup.find(\"h1\").get_text())\\n#price_list.append(book_soup.find(class_=\"price_color\").get_text()[2:])\\n#rating_list.append(w2n.word_to_num(book_soup.find(class_=\"star-rating\").get(\"class\")[1])\\n#genre_list.append(book_soup.find_all(\"li\")[2].get_text(strip = True))\\n#availability_list.append(book_soup.find(class_=\"instock availability\").get_text(strip=True))\\n#description_list.append(book_soup.find_all(\"p\")[3].get_text(strip = True))\\n'"
      ]
     },
     "execution_count": 335,
     "metadata": {},
     "output_type": "execute_result"
    }
   ],
   "source": [
    "\"\"\"\n",
    "book_link = \"https://books.toscrape.com/\"+\"catalogue/tipping-the-velvet_999/index.html\"\n",
    "book_response = requests.get(book_link)\n",
    "book_html = book_response.text\n",
    "book_soup = BeautifulSoup(book_html, 'html.parser')\n",
    "#upc_list.append(book_soup.find_all(\"td\")[0].get_text())\n",
    "#title_list.append(book_soup.find(\"h1\").get_text())\n",
    "#price_list.append(book_soup.find(class_=\"price_color\").get_text()[2:])\n",
    "#rating_list.append(w2n.word_to_num(book_soup.find(class_=\"star-rating\").get(\"class\")[1])\n",
    "#genre_list.append(book_soup.find_all(\"li\")[2].get_text(strip = True))\n",
    "#availability_list.append(book_soup.find(class_=\"instock availability\").get_text(strip=True))\n",
    "#description_list.append(book_soup.find_all(\"p\")[3].get_text(strip = True))\n",
    "\"\"\""
   ]
  },
  {
   "cell_type": "code",
   "execution_count": 337,
   "id": "41189a7d-d50d-4ff2-9e40-d49044007223",
   "metadata": {},
   "outputs": [
    {
     "data": {
      "text/plain": [
       "'\\nbooks_links = []\\nfor i in range(50):\\n    link2 = f\"https://books.toscrape.com/catalogue/page-{i+1}.html\"\\n    response2 = requests.get(link2)\\n    response2.status_code\\n    html2 = response2.text\\n    soup3 = BeautifulSoup(html2, \\'html.parser\\')\\n    book_headers = soup.find_all(\"h3\")\\n    for element in book_headers:\\n        books_links.append(element.find(\"a\").get(\"href\"))\\nupc_list = []\\ntitle_list = []\\nprice_list = []\\nrating_list = []\\ngenre_list = []\\navailability_list = []\\ndescription_list = []\\nfor element in books_links:\\n    book_link = \"https://books.toscrape.com/\"+element\\n    book_response = requests.get(book_link)\\n    book_html = book_response.text\\n    book_soup = BeautifulSoup(book_html, \\'html.parser\\')\\n    upc_list.append(book_soup.find_all(\"td\")[0].get_text())\\n    title_list.append(book_soup.find(\"h1\").get_text())\\n    price_list.append(book_soup.find(class_=\"price_color\").get_text()[2:])\\n    rating_list.append(w2n.word_to_num(book_soup.find(class_=\"star-rating\").get(\"class\")[1]))\\n    genre_list.append(book_soup.find_all(\"li\")[2].get_text(strip = True))\\n    availability_list.append(book_soup.find(class_=\"instock availability\").get_text(strip=True))\\n    description_list.append(book_soup.find_all(\"p\")[3].get_text(strip = True))\\ndictionary = {\"upc\": upc_list,\\n             \"title\": title_list,\\n             \"price (£)\": price_list,\\n             \"rating\": rating_list,\\n             \"genre\": genre_list,\\n             \"availavility\": availability_list,\\n             \"description\": description_list}\\nlibros_df = pd.DataFrame(data = dictionary)\\nlibros_df\\n'"
      ]
     },
     "execution_count": 337,
     "metadata": {},
     "output_type": "execute_result"
    }
   ],
   "source": [
    "\"\"\"\n",
    "books_links = []\n",
    "for i in range(50):\n",
    "    link2 = f\"https://books.toscrape.com/catalogue/page-{i+1}.html\"\n",
    "    response2 = requests.get(link2)\n",
    "    response2.status_code\n",
    "    html2 = response2.text\n",
    "    soup3 = BeautifulSoup(html2, 'html.parser')\n",
    "    book_headers = soup.find_all(\"h3\")\n",
    "    for element in book_headers:\n",
    "        books_links.append(element.find(\"a\").get(\"href\"))\n",
    "upc_list = []\n",
    "title_list = []\n",
    "price_list = []\n",
    "rating_list = []\n",
    "genre_list = []\n",
    "availability_list = []\n",
    "description_list = []\n",
    "for element in books_links:\n",
    "    book_link = \"https://books.toscrape.com/\"+element\n",
    "    book_response = requests.get(book_link)\n",
    "    book_html = book_response.text\n",
    "    book_soup = BeautifulSoup(book_html, 'html.parser')\n",
    "    upc_list.append(book_soup.find_all(\"td\")[0].get_text())\n",
    "    title_list.append(book_soup.find(\"h1\").get_text())\n",
    "    price_list.append(book_soup.find(class_=\"price_color\").get_text()[2:])\n",
    "    rating_list.append(w2n.word_to_num(book_soup.find(class_=\"star-rating\").get(\"class\")[1]))\n",
    "    genre_list.append(book_soup.find_all(\"li\")[2].get_text(strip = True))\n",
    "    availability_list.append(book_soup.find(class_=\"instock availability\").get_text(strip=True))\n",
    "    description_list.append(book_soup.find_all(\"p\")[3].get_text(strip = True))\n",
    "dictionary = {\"upc\": upc_list,\n",
    "             \"title\": title_list,\n",
    "             \"price (£)\": price_list,\n",
    "             \"rating\": rating_list,\n",
    "             \"genre\": genre_list,\n",
    "             \"availavility\": availability_list,\n",
    "             \"description\": description_list}\n",
    "libros_df = pd.DataFrame(data = dictionary)\n",
    "libros_df\n",
    "\"\"\""
   ]
  },
  {
   "cell_type": "code",
   "execution_count": 339,
   "id": "2b19cf83-9677-4f50-951f-27e7db8622fa",
   "metadata": {},
   "outputs": [],
   "source": [
    "#libros_df[\"price (£)\"] = libros_df[\"price (£)\"].astype(float)"
   ]
  },
  {
   "cell_type": "code",
   "execution_count": 341,
   "id": "e40f1821-da08-4e1b-b58f-e3f07ae42072",
   "metadata": {},
   "outputs": [],
   "source": [
    "#You will execute this script to scrape data for books with a minimum rating of 4.0 and above and a maximum price of £20\n",
    "#filtered_df = libros_df[(libros_df[\"rating\"] >= 4) & (libros_df[\"price (£)\"] <= 20)]"
   ]
  },
  {
   "cell_type": "code",
   "execution_count": 345,
   "id": "40359eee-9cd7-4884-bfa4-83344c222305",
   "metadata": {
    "id": "40359eee-9cd7-4884-bfa4-83344c222305"
   },
   "outputs": [],
   "source": [
    "def scrape_books(min_rating, max_price):\n",
    "    books_links = []\n",
    "    for i in range(50):\n",
    "        link = f\"https://books.toscrape.com/catalogue/page-{i+1}.html\"\n",
    "        response = requests.get(link2)\n",
    "        response.status_code\n",
    "        html = response.text\n",
    "        soup = BeautifulSoup(html, 'html.parser')\n",
    "        book_headers = soup.find_all(\"h3\")\n",
    "        for element in book_headers:\n",
    "            books_links.append(element.find(\"a\").get(\"href\"))\n",
    "    upc_list = []\n",
    "    title_list = []\n",
    "    price_list = []\n",
    "    rating_list = []\n",
    "    genre_list = []\n",
    "    availability_list = []\n",
    "    description_list = []\n",
    "    for element in books_links:\n",
    "        link = \"https://books.toscrape.com/\"+element\n",
    "        response = requests.get(link)\n",
    "        html = response.text\n",
    "        soup = BeautifulSoup(html, 'html.parser')\n",
    "        upc_list.append(soup.find_all(\"td\")[0].get_text())\n",
    "        title_list.append(soup.find(\"h1\").get_text())\n",
    "        price_list.append(soup.find(class_=\"price_color\").get_text()[2:])\n",
    "        rating_list.append(w2n.word_to_num(soup.find(class_=\"star-rating\").get(\"class\")[1]))\n",
    "        genre_list.append(soup.find_all(\"li\")[2].get_text(strip = True))\n",
    "        availability_list.append(soup.find(class_=\"instock availability\").get_text(strip=True))\n",
    "        description_list.append(soup.find_all(\"p\")[3].get_text(strip = True))\n",
    "    dictionary = {\"upc\": upc_list,\n",
    "                 \"title\": title_list,\n",
    "                 \"price (£)\": price_list,\n",
    "                 \"rating\": rating_list,\n",
    "                 \"genre\": genre_list,\n",
    "                 \"availavility\": availability_list,\n",
    "                 \"description\": description_list}\n",
    "    books_df = pd.DataFrame(data = dictionary)\n",
    "    books_df[\"price (£)\"] = books_df[\"price (£)\"].astype(float)\n",
    "    filtered_df = books_df[(books_df[\"rating\"] >= min_rating) & (libros_df[\"price (£)\"] <= max_price)]\n",
    "    return filtered_df"
   ]
  }
 ],
 "metadata": {
  "colab": {
   "provenance": []
  },
  "kernelspec": {
   "display_name": "Python 3 (ipykernel)",
   "language": "python",
   "name": "python3"
  },
  "language_info": {
   "codemirror_mode": {
    "name": "ipython",
    "version": 3
   },
   "file_extension": ".py",
   "mimetype": "text/x-python",
   "name": "python",
   "nbconvert_exporter": "python",
   "pygments_lexer": "ipython3",
   "version": "3.12.4"
  }
 },
 "nbformat": 4,
 "nbformat_minor": 5
}
